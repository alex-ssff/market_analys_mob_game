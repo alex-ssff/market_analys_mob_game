{
 "cells": [
  {
   "cell_type": "markdown",
   "id": "98923af7",
   "metadata": {},
   "source": [
    "# Проектная работа \"Маркетинговый анализ Procrastinate Pro+\""
   ]
  },
  {
   "cell_type": "markdown",
   "id": "47145e41",
   "metadata": {},
   "source": [
    "## Введение"
   ]
  },
  {
   "cell_type": "markdown",
   "id": "1defa61b",
   "metadata": {},
   "source": [
    "### Описание проекта"
   ]
  },
  {
   "cell_type": "markdown",
   "id": "d1c426c4",
   "metadata": {},
   "source": [
    "Компания Procrastinate Pro+ последние несколько месяцев несет убытки при крупных вложениях в рекламу. Для определения причин убыток, компания предоставила данные с 1 мая по 27 октября 2019 года:  \n",
    "- лог сервера с данными об их посещениях,  \n",
    "- выгрузка их покупок за этот период,  \n",
    "- рекламные расходы.\n",
    "\n",
    "В процессе маркетингового анализа требуется изучить:  \n",
    "- откуда приходят пользователи и какими устройствами они пользуются,  \n",
    "- сколько стоит привлечение пользователей из различных рекламных каналов,  \n",
    "- сколько денег приносит каждый клиент,  \n",
    "- когда расходы на привлечение клиента окупаются,  \n",
    "- какие факторы мешают привлечению клиентов."
   ]
  },
  {
   "cell_type": "markdown",
   "id": "1ed9482b",
   "metadata": {},
   "source": [
    "### Цель проекта"
   ]
  },
  {
   "cell_type": "markdown",
   "id": "41b82a07",
   "metadata": {},
   "source": [
    "Определить причину неэффективности привлечения пользователей развлекательного приложения Procrastinate Pro+ и предложить рекомендации для отдела маркетинга."
   ]
  },
  {
   "cell_type": "markdown",
   "id": "468978d1",
   "metadata": {},
   "source": [
    "### Ход решения"
   ]
  },
  {
   "cell_type": "markdown",
   "id": "7f98228f",
   "metadata": {},
   "source": [
    "1. Загрузить файлы с данными и подготовить их к анализу.\n",
    "2. Задать функции для расчёта и анализа LTV, ROI, удержания и конверсии.\n",
    "3. Исследовательский анализ данных.\n",
    "4. Маркетинг.\n",
    "5. Оцените окупаемость рекламы.\n",
    "6. Выводы."
   ]
  },
  {
   "cell_type": "markdown",
   "id": "0ad79550",
   "metadata": {},
   "source": [
    "### Описание данных"
   ]
  },
  {
   "cell_type": "markdown",
   "id": "9e9ac014",
   "metadata": {},
   "source": [
    "Структура visits_info_short.csv:  \n",
    "- User Id — уникальный идентификатор пользователя,  \n",
    "- Region — страна пользователя,  \n",
    "- Device — тип устройства пользователя,  \n",
    "- Channel — идентификатор источника перехода,  \n",
    "- Session Start — дата и время начала сессии,  \n",
    "- Session End — дата и время окончания сессии.\n",
    "  \n",
    "Структура orders_info_short.csv:  \n",
    "- User Id — уникальный идентификатор пользователя,  \n",
    "- Event Dt — дата и время покупки,  \n",
    "- Revenue — сумма заказа.  \n",
    "  \n",
    "Структура costs_info_short.csv:  \n",
    "- dt — дата проведения рекламной кампании,  \n",
    "- Channel — идентификатор рекламного источника,  \n",
    "- costs — расходы на эту кампанию."
   ]
  },
  {
   "cell_type": "markdown",
   "id": "a123b018",
   "metadata": {},
   "source": [
    "## Изучение и подготовка данных"
   ]
  },
  {
   "cell_type": "markdown",
   "id": "e20180bc",
   "metadata": {},
   "source": [
    "### Обзор данных о визитах, заказах и рекламных расходах"
   ]
  },
  {
   "cell_type": "code",
   "execution_count": 1,
   "id": "01a6209a",
   "metadata": {},
   "outputs": [],
   "source": [
    "#импорт библиотек\n",
    "import pandas as pd\n",
    "import seaborn as sns\n",
    "import numpy as np\n",
    "from datetime import datetime, timedelta\n",
    "from matplotlib import pyplot as plt"
   ]
  },
  {
   "cell_type": "code",
   "execution_count": null,
   "id": "6e8bddc6",
   "metadata": {},
   "outputs": [],
   "source": [
    "#открываем файл\n",
    "try:\n",
    "    users, orders, costs = (\n",
    "        pd.read_csv('/datasets/visits_info_short.csv'),\n",
    "        pd.read_csv('/datasets/orders_info_short.csv'),\n",
    "        pd.read_csv('/datasets/costs_info_short.csv'),\n",
    "    )\n",
    "except FileNotFoundError:\n",
    "    users, orders, costs = (\n",
    "        pd.read_csv('visits_info_short.csv'),\n",
    "        pd.read_csv('orders_info_short.csv'),\n",
    "        pd.read_csv('costs_info_short.csv'),\n",
    "    )\n",
    "except:\n",
    "    print('Проверьте путь к файлу')"
   ]
  },
  {
   "cell_type": "code",
   "execution_count": null,
   "id": "0e86f093",
   "metadata": {},
   "outputs": [],
   "source": [
    "for df in (users, orders, costs):\n",
    "    display(df.head(5))\n",
    "    df.info()\n",
    "    print('Количество дубликатов:', df.duplicated().sum())\n",
    "    "
   ]
  },
  {
   "cell_type": "markdown",
   "id": "87b1600f",
   "metadata": {},
   "source": [
    "В данных отсутствуют дубликаты и пропуски. В названиях столбцов присутсвуют пробелы и заглавные буквы. Даты записаны в формате object.\n",
    "\n",
    "Перед предобработкой данных осталось проверить наличие неявных дубликатов и выбросов."
   ]
  },
  {
   "cell_type": "code",
   "execution_count": null,
   "id": "1212332e",
   "metadata": {},
   "outputs": [],
   "source": [
    "print('Изучаем таблицу users')\n",
    "print()\n",
    "for column in users[['Region','Device','Channel']]:\n",
    "    print('Уникальные значения в {}'.format(column), users[column].unique())\n",
    "for column in users[['Session Start','Session End']]:\n",
    "    print('Начало периода в {}'.format(column),users[column].min())\n",
    "    print('Конец периода в {}'.format(column),users[column].max())\n",
    "print('**********************************************************************************************************************')\n",
    "print()\n",
    "print('Изучаем таблицу orders')\n",
    "print()\n",
    "for column in orders[['Event Dt','Revenue']]:\n",
    "    print('Минимальное значение в {}'.format(column),orders[column].min())\n",
    "    print('Максимальное значение в {}'.format(column),orders[column].max())\n",
    "print('**********************************************************************************************************************')\n",
    "print()\n",
    "print('Изучаем таблицу costs')\n",
    "print()\n",
    "print('Уникальные значения в столбце Channel:', costs['Channel'].unique())\n",
    "print('Минимальное значение в столбце costs:',costs['costs'].min())\n",
    "print('Максимальное значение в столбце costs:',costs['costs'].max())"
   ]
  },
  {
   "cell_type": "markdown",
   "id": "d0414ede",
   "metadata": {},
   "source": [
    "Выбросы и неявные дубликаты отсутствуют."
   ]
  },
  {
   "cell_type": "markdown",
   "id": "100a56e8",
   "metadata": {},
   "source": [
    "### Предобработка данных"
   ]
  },
  {
   "cell_type": "code",
   "execution_count": null,
   "id": "49497df9",
   "metadata": {},
   "outputs": [],
   "source": [
    "users.columns = users.columns.str.lower().str.replace(' ', '_')\n",
    "orders.columns = [x.lower().replace(' ', '_') for x in orders.columns.values]\n",
    "costs.columns = map(str.lower, costs.columns)\n",
    "\n",
    "users['session_start'] = pd.to_datetime(users['session_start'])\n",
    "users['session_end'] = pd.to_datetime(users['session_end'])\n",
    "orders['event_dt'] = pd.to_datetime(orders['event_dt'])\n",
    "costs['dt'] = pd.to_datetime(costs['dt']).dt.date"
   ]
  },
  {
   "cell_type": "markdown",
   "id": "2f71547a",
   "metadata": {},
   "source": [
    "Предобработка выполнена."
   ]
  },
  {
   "cell_type": "code",
   "execution_count": null,
   "id": "85466e3a",
   "metadata": {},
   "outputs": [],
   "source": [
    "users"
   ]
  },
  {
   "cell_type": "markdown",
   "id": "afae0d8c",
   "metadata": {},
   "source": [
    "## Функции для расчёта и анализа LTV, ROI, удержания и конверсии"
   ]
  },
  {
   "cell_type": "code",
   "execution_count": null,
   "id": "15b7f623",
   "metadata": {},
   "outputs": [],
   "source": [
    "#Функция для создания профилей пользователей\n",
    "def get_profiles(sessions, orders, costs):\n",
    "    profiles = (\n",
    "        sessions.sort_values(by=['user_id','session_start'])\n",
    "        .groupby('user_id')\n",
    "        .agg({\n",
    "            'session_start':'first',\n",
    "             'region':'first',\n",
    "             'device':'first',\n",
    "             'channel':'first'\n",
    "             }\n",
    "        )\n",
    "        .rename(columns={'session_start':'first_ts'})\n",
    "        .reset_index()   \n",
    "    )\n",
    "    \n",
    "    profiles['dt'] = profiles['first_ts'].dt.date\n",
    "    profiles['month'] = profiles['first_ts'].astype('datetime64[M]')\n",
    "    \n",
    "    profiles['payer'] = profiles['user_id'].isin(orders['user_id'].unique())\n",
    "    \n",
    "    new_users = (\n",
    "        profiles.groupby(['dt','channel'])\n",
    "        .agg({'user_id':'nunique'})\n",
    "        .rename(columns={'user_id':'unique_users'})\n",
    "        .reset_index()\n",
    "    )\n",
    "    costs = new_users.merge(costs, on=['dt','channel'], how='left')\n",
    "    costs['acquisition_cost'] = costs['costs']/costs['unique_users']\n",
    "    \n",
    "    profiles = profiles.merge(\n",
    "        costs[['dt','channel','acquisition_cost']],\n",
    "        on = ['dt','channel'],\n",
    "        how = 'left'\n",
    "    )\n",
    "    profiles['acquisition_cost'] = profiles['acquisition_cost'].fillna(0)\n",
    "    \n",
    "    return profiles"
   ]
  },
  {
   "cell_type": "code",
   "execution_count": null,
   "id": "212c18e3",
   "metadata": {},
   "outputs": [],
   "source": [
    "#Функция для расчета Retention Rate (удержание)\n",
    "def get_retention(\n",
    "    profiles, \n",
    "    sessions, \n",
    "    observation_date, \n",
    "    horizon_days,\n",
    "    dimensions = [], \n",
    "    ignore_horizon = False,\n",
    "):\n",
    "    \n",
    "    dimensions = dimensions + ['payer']\n",
    "    \n",
    "    last_date = observation_date\n",
    "    if not ignore_horizon:\n",
    "        last_date = observation_date - timedelta(days=horizon_days-1)\n",
    "    result_raw = profiles.query('dt <=@last_date and channel != \"organic\"')\n",
    "    \n",
    "    result_raw = result_raw.merge(\n",
    "        sessions[['user_id','session_start']] , on='user_id', how='left'\n",
    "    )\n",
    "    \n",
    "    result_raw['lifetime'] = (\n",
    "        result_raw['session_start'] - result_raw['first_ts']\n",
    "    ).dt.days\n",
    "        \n",
    "    def group_by_dimensions(df, dims, horizon_days):\n",
    "        result = df.pivot_table(\n",
    "            index = dims, columns = 'lifetime', values = 'user_id', aggfunc='nunique',\n",
    "        )\n",
    "        \n",
    "        cohort_sizes = (\n",
    "            df.groupby(dims)\n",
    "            .agg({'user_id':'nunique'})\n",
    "            .rename(columns={'user_id':'cohort_size'})\n",
    "        )\n",
    "        \n",
    "        result = cohort_sizes.merge(result, on=dims, how='left').fillna(0)\n",
    "        result = result.div(result['cohort_size'], axis=0)\n",
    "        result = result[['cohort_size'] + list(range(horizon_days))]\n",
    "        result['cohort_size'] = cohort_sizes\n",
    "        \n",
    "        return result\n",
    "    \n",
    "    result_grouped = group_by_dimensions(result_raw, dimensions, horizon_days)\n",
    "        \n",
    "    result_in_time = group_by_dimensions(result_raw, dimensions+['dt'], horizon_days)\n",
    "    \n",
    "    return result_raw, result_grouped, result_in_time"
   ]
  },
  {
   "cell_type": "code",
   "execution_count": null,
   "id": "50a34697",
   "metadata": {},
   "outputs": [],
   "source": [
    "#Функция для подсчета конверсии\n",
    "def get_conversion(\n",
    "    profiles, \n",
    "    purchases, \n",
    "    observation_date, \n",
    "    horizon_days,\n",
    "    dimensions = [], \n",
    "    ignore_horizon = False,\n",
    "):\n",
    "    \n",
    "    last_date = observation_date\n",
    "    if not ignore_horizon:\n",
    "        last_date = observation_date - timedelta(days=horizon_days-1)\n",
    "    result_raw = profiles.query('dt <=@last_date and channel != \"organic\"')\n",
    "    \n",
    "    first_purchases = (\n",
    "        purchases.sort_values(['user_id','event_dt'])\n",
    "        .groupby('user_id')\n",
    "        .agg({'event_dt':'first'})\n",
    "        .reset_index()\n",
    "    )\n",
    "    \n",
    "    result_raw = result_raw.merge(\n",
    "        first_purchases[['user_id','event_dt']] , on='user_id', how='left'\n",
    "    )\n",
    "    \n",
    "    result_raw['lifetime'] = (\n",
    "        result_raw['event_dt'] - result_raw['first_ts']\n",
    "    ).dt.days\n",
    "    \n",
    "    if len(dimensions) == 0:\n",
    "        result_raw['cohort'] = 'All users'\n",
    "        dimensions = dimensions + ['cohort']\n",
    "        \n",
    "    def group_by_dimensions(df, dims, horizon_days):\n",
    "        result = df.pivot_table(\n",
    "            index = dims, columns = 'lifetime', values = 'user_id', aggfunc='nunique',\n",
    "        )\n",
    "        result = result.fillna(0).cumsum(axis=1)\n",
    "        \n",
    "        cohort_sizes = (\n",
    "            df.groupby(dims)\n",
    "            .agg({'user_id':'nunique'})\n",
    "            .rename(columns={'user_id':'cohort_size'})\n",
    "        )\n",
    "        \n",
    "        result = cohort_sizes.merge(result, on=dims, how='left').fillna(0)\n",
    "        result = result.div(result['cohort_size'], axis=0)\n",
    "        result = result[['cohort_size'] + list(range(horizon_days))]\n",
    "        result['cohort_size'] = cohort_sizes\n",
    "        \n",
    "        return result\n",
    "    \n",
    "    result_grouped = group_by_dimensions(result_raw, dimensions, horizon_days)\n",
    "    \n",
    "    if 'cohort' in dimensions:\n",
    "        dimensions = []\n",
    "        \n",
    "    result_in_time = group_by_dimensions(result_raw, dimensions+['dt'], horizon_days)\n",
    "    \n",
    "    return result_raw, result_grouped, result_in_time"
   ]
  },
  {
   "cell_type": "code",
   "execution_count": null,
   "id": "adfc61d1",
   "metadata": {},
   "outputs": [],
   "source": [
    "#Функция для подсчета LTV  и ROI\n",
    "def get_ltv(\n",
    "    profiles, \n",
    "    purchases, \n",
    "    observation_date, \n",
    "    horizon_days,\n",
    "    dimensions = [], \n",
    "    ignore_horizon = False,\n",
    "):\n",
    "    \n",
    "    last_date = observation_date\n",
    "    if not ignore_horizon:\n",
    "        last_date = observation_date - timedelta(days=horizon_days-1)\n",
    "    result_raw = profiles.query('dt <=@last_date and channel != \"organic\"')\n",
    "    \n",
    "    result_raw = result_raw.merge(\n",
    "        purchases[['user_id','event_dt','revenue']] , on='user_id', how='left'\n",
    "    )\n",
    "    \n",
    "    result_raw['lifetime'] = (\n",
    "        result_raw['event_dt'] - result_raw['first_ts']\n",
    "    ).dt.days\n",
    "    \n",
    "    if len(dimensions) == 0:\n",
    "        result_raw['cohort'] = 'All users'\n",
    "        dimensions = dimensions + ['cohort']\n",
    "        \n",
    "    def group_by_dimensions(df, dims, horizon_days):\n",
    "        result = df.pivot_table(\n",
    "            index = dims, columns = 'lifetime', values = 'revenue', aggfunc='sum',\n",
    "        )\n",
    "        result = result.fillna(0).cumsum(axis=1)\n",
    "        \n",
    "        cohort_sizes = (\n",
    "            df.groupby(dims)\n",
    "            .agg({'user_id':'nunique'})\n",
    "            .rename(columns={'user_id':'cohort_size'})\n",
    "        )\n",
    "        \n",
    "        result = cohort_sizes.merge(result, on=dims, how='left').fillna(0)\n",
    "        result = result.div(result['cohort_size'], axis=0)\n",
    "        result = result[['cohort_size'] + list(range(horizon_days))]\n",
    "        result['cohort_size'] = cohort_sizes\n",
    "        \n",
    "        cac = df[['user_id','acquisition_cost'] + dims].drop_duplicates()\n",
    "        cac = (\n",
    "            cac.groupby(dims)\n",
    "            .agg({'acquisition_cost':'mean'})\n",
    "            .rename(columns={'acquisition_cost':'cac'})\n",
    "        )\n",
    "        \n",
    "        roi = result.div(cac['cac'], axis = 0)\n",
    "        roi = roi[~roi['cohort_size'].isin([np.inf])]\n",
    "        roi['cohort_size'] = cohort_sizes\n",
    "        roi['cac'] = cac['cac']\n",
    "        roi = roi[['cohort_size','cac'] + list(range(horizon_days))]\n",
    "        \n",
    "        return result, roi\n",
    "    \n",
    "    result_grouped, roi_grouped = group_by_dimensions(result_raw, dimensions, horizon_days)\n",
    "    \n",
    "    if 'cohort' in dimensions:\n",
    "        dimensions = []\n",
    "        \n",
    "    result_in_time, roi_in_time = group_by_dimensions(result_raw, dimensions+['dt'], horizon_days)\n",
    "    \n",
    "    return (\n",
    "        result_raw, \n",
    "        result_grouped,\n",
    "        roi_grouped,\n",
    "        result_in_time,\n",
    "        roi_in_time,\n",
    "    )"
   ]
  },
  {
   "cell_type": "code",
   "execution_count": null,
   "id": "e1823527",
   "metadata": {},
   "outputs": [],
   "source": [
    "#Функция для сглаживания данных\n",
    "def filter_data (df, window):\n",
    "    for column in df.columns.values:\n",
    "        df[column] = df[column].rolling(window).mean()\n",
    "    return df"
   ]
  },
  {
   "cell_type": "code",
   "execution_count": null,
   "id": "b68b879b",
   "metadata": {},
   "outputs": [],
   "source": [
    "#Функция для построения графика Retention Rate (удержание)\n",
    "def plot_retention (retention, retention_history, horizon, window=7):\n",
    "    \n",
    "    plt.figure(figsize=(15,10))\n",
    "    retention = retention.drop(columns=['cohort_size',0])\n",
    "    retention_history = retention_history.drop(columns=['cohort_size'])[[horizon-1]]\n",
    "    \n",
    "    if retention.index.nlevels == 1:\n",
    "        retention['cohort'] = 'All users'\n",
    "        retention = retention.reset_index().set_index(['cohort','payer'])\n",
    "        \n",
    "    ax1 = plt.subplot(2,2,1)\n",
    "    retention.query('payer == True').droplevel('payer').T.plot(\n",
    "        grid=True, ax=ax1\n",
    "    )\n",
    "    plt.legend()\n",
    "    plt.xlabel('Лайфтайм')\n",
    "    plt.title('Удержание платящих пользователей')\n",
    "    \n",
    "    ax2 = plt.subplot(2,2,2, sharey = ax1)\n",
    "    retention.query('payer == False').droplevel('payer').T.plot(\n",
    "        grid=True, ax=ax2\n",
    "    )\n",
    "    plt.legend()\n",
    "    plt.xlabel('Лайфтайм')\n",
    "    plt.title('Удержание неплатящих пользователей')\n",
    "    \n",
    "    ax3 = plt.subplot(2,2,3)\n",
    "    columns = [\n",
    "        name\n",
    "        for name in retention_history.index.names\n",
    "        if name not in ['dt','payer']\n",
    "    ]\n",
    "    filtered_data = retention_history.query('payer == True').pivot_table(\n",
    "        index='dt', columns = columns, values=horizon-1, aggfunc='mean'\n",
    "    )\n",
    "    filter_data(filtered_data, window).plot(grid=True, ax=ax3)\n",
    "    plt.xlabel('Дата привлечения')\n",
    "    plt.title(\n",
    "        'Динамика удержания платящих пользователей на {}-й день'.format(horizon)\n",
    "    )\n",
    "    \n",
    "    ax4 = plt.subplot(2,2,4, sharey=ax3)\n",
    "\n",
    "    filtered_data = retention_history.query('payer == False').pivot_table(\n",
    "        index='dt', columns = columns, values=horizon-1, aggfunc='mean'\n",
    "    )\n",
    "    filter_data(filtered_data, window).plot(grid=True, ax=ax4)\n",
    "    plt.xlabel('Дата привлечения')\n",
    "    plt.title(\n",
    "        'Динамика удержания неплатящих пользователей на {}-й день'.format(horizon)\n",
    "    )\n",
    "    \n",
    "    plt.tight_layout()\n",
    "    plt.show()"
   ]
  },
  {
   "cell_type": "code",
   "execution_count": null,
   "id": "1557a1fd",
   "metadata": {},
   "outputs": [],
   "source": [
    "#Функция для построения графика конверсии\n",
    "def plot_conversion (conversion, conversion_history, horizon, window=7):\n",
    "    \n",
    "    plt.figure(figsize=(15,5))\n",
    "    conversion = conversion.drop(columns=['cohort_size'])\n",
    "    conversion_history = conversion_history.drop(columns=['cohort_size'])[[horizon-1]]\n",
    "        \n",
    "    ax1 = plt.subplot(1,2,1)\n",
    "    conversion.T.plot(grid=True, ax=ax1)\n",
    "    plt.legend()\n",
    "    plt.xlabel('Лайфтайм')\n",
    "    plt.title('Конверсия пользователей')\n",
    "    \n",
    "    ax2 = plt.subplot(1,2,2, sharey=ax1)\n",
    "    \n",
    "    columns = [\n",
    "        name\n",
    "        for name in conversion_history.index.names\n",
    "        if name not in ['dt','payer']\n",
    "    ]    \n",
    "    filtered_data = conversion_history.pivot_table(\n",
    "        index='dt', columns = columns, values=horizon-1, aggfunc='mean'\n",
    "    )\n",
    "    filter_data(filtered_data, window).plot(grid=True, ax=ax2)\n",
    "    plt.xlabel('Дата привлечения')\n",
    "    plt.title(\n",
    "        'Динамика конверсии пользователей на {}-й день'.format(horizon)\n",
    "    )\n",
    "    \n",
    "    plt.tight_layout()\n",
    "    plt.show()"
   ]
  },
  {
   "cell_type": "code",
   "execution_count": null,
   "id": "f3dd90cb",
   "metadata": {},
   "outputs": [],
   "source": [
    "#Функция для визуализации LTV и ROI\n",
    "def plot_ltv_roi(ltv,ltv_history, roi, roi_history, horizon, window=7):\n",
    "    \n",
    "    plt.figure(figsize=(20,10))\n",
    "    \n",
    "    ltv = ltv.drop(columns=['cohort_size'])\n",
    "    ltv_history = ltv_history.drop(columns=['cohort_size'])[[horizon-1]]\n",
    "    cac_history = roi_history[['cac']]\n",
    "    roi = roi.drop(columns=['cohort_size','cac'])\n",
    "    roi_history = roi_history.drop(columns=['cohort_size','cac'])[[horizon-1]]\n",
    "    \n",
    "    ax1 = plt.subplot(2,3,1)\n",
    "    ltv.T.plot(grid=True, ax=ax1)\n",
    "    plt.legend()\n",
    "    plt.xlabel('Лафйтайм')\n",
    "    plt.title('LTV')\n",
    "    \n",
    "    ax2 = plt.subplot(2,3,2, sharey=ax1)\n",
    "    columns = [\n",
    "        name\n",
    "        for name in ltv_history.index.names\n",
    "        if name not in ['dt']\n",
    "    ]\n",
    "    filtered_data = ltv_history.pivot_table(\n",
    "        index='dt', columns=columns, values=horizon-1, aggfunc='mean'\n",
    "    )\n",
    "    filter_data(filtered_data, window). plot(grid=True, ax=ax2)\n",
    "    plt.xlabel('Дата привлечения')\n",
    "    plt.title('Динамика LTV пользователей на {}-й день'.format(horizon))\n",
    "    \n",
    "    ax3 = plt.subplot(2,3,3, sharey=ax1)\n",
    "    columns = [\n",
    "        name\n",
    "        for name in cac_history.index.names\n",
    "        if name not in ['dt']\n",
    "    ]\n",
    "    filtered_data = cac_history.pivot_table(\n",
    "        index='dt', columns=columns, values='cac', aggfunc='mean'\n",
    "    )\n",
    "    filter_data(filtered_data, window). plot(grid=True, ax=ax3)\n",
    "    plt.xlabel('Дата привлечения')\n",
    "    plt.title('Динамика стоимости привлечения пользователей')\n",
    "    \n",
    "    ax4 = plt.subplot(2,3,4)\n",
    "    roi.T.plot(grid=True, ax=ax4)\n",
    "    plt.legend()\n",
    "    plt.axhline(y=1, color='red', linestyle='--', label='Уровень окупаемости')\n",
    "    plt.xlabel('Лафйтайм')\n",
    "    plt.title('ROI')\n",
    "    \n",
    "    ax5 = plt.subplot(2,3,5, sharey=ax4)\n",
    "    columns = [\n",
    "        name\n",
    "        for name in roi_history.index.names\n",
    "        if name not in ['dt']\n",
    "    ]\n",
    "    filtered_data = roi_history.pivot_table(\n",
    "        index='dt', columns=columns, values=horizon-1, aggfunc='mean'\n",
    "    )\n",
    "    filter_data(filtered_data, window). plot(grid=True, ax=ax5)\n",
    "    plt.axhline(y=1, color='red', linestyle='--', label='Уровень окупаемости')\n",
    "    plt.xlabel('Дата привлечения')\n",
    "    plt.title('Динамика ROI пользователей на {}-й день'.format(horizon))\n",
    "    \n",
    "    plt.tight_layout()\n",
    "    plt.show()    "
   ]
  },
  {
   "cell_type": "markdown",
   "id": "21469349",
   "metadata": {},
   "source": [
    "## Исследовательский анализ данных"
   ]
  },
  {
   "cell_type": "markdown",
   "id": "7dfb5bb5",
   "metadata": {},
   "source": [
    "### Профили пользоватей"
   ]
  },
  {
   "cell_type": "code",
   "execution_count": null,
   "id": "4601c494",
   "metadata": {
    "scrolled": true
   },
   "outputs": [],
   "source": [
    "profiles = get_profiles(users, orders, costs)\n",
    "\n",
    "print('Минимальная дата привлечения пользователей:', profiles['dt'].min())\n",
    "print('Максимальная дата привлечения пользователей:', profiles['dt'].max())\n",
    "profiles.head(5)"
   ]
  },
  {
   "cell_type": "markdown",
   "id": "f9670066",
   "metadata": {},
   "source": [
    "Профили пользователей сформированы. По каждому пользователю есть информация дату первого посещения приложения, страна пользователя, тип устройства, индентификатор источника пользователя, идентификатор покупателя, затраты на привлечения пользователя. Первое привлечение в данном периоде - 01 мая 2019г., последнее - 27 октября 2019г."
   ]
  },
  {
   "cell_type": "code",
   "execution_count": null,
   "id": "6afe7f1b",
   "metadata": {},
   "outputs": [],
   "source": [
    "def profiles_dims(dims):\n",
    "    df_group = (\n",
    "        profiles.pivot_table(index=dims, values='payer', aggfunc=['count','sum','mean'])\n",
    "        .reset_index()\n",
    "        .rename(columns={'count':'all_users','sum':'paying_users','mean':'ratio'})\n",
    "        .droplevel(1, axis=1)\n",
    "        .sort_values(by='ratio', ascending=False)\n",
    "        .style.format({'ratio':'{:.2%}'})\n",
    "    ) \n",
    "    \n",
    "    return df_group\n",
    "\n",
    "profiles_region = profiles_dims('region')\n",
    "profiles_region"
   ]
  },
  {
   "cell_type": "markdown",
   "id": "4cf660e0",
   "metadata": {},
   "source": [
    "Приложение используют клиенты из United States, Germany, UK, France. Наибольшая доля платящих пользователей приходится на пользоветелей из United States (6.9%), наименьшая - France (3.8%)."
   ]
  },
  {
   "cell_type": "code",
   "execution_count": null,
   "id": "ac543c5b",
   "metadata": {},
   "outputs": [],
   "source": [
    "profiles_device = profiles_dims('device')\n",
    "profiles_device"
   ]
  },
  {
   "cell_type": "markdown",
   "id": "a8af0f2f",
   "metadata": {},
   "source": [
    "В приложение клиенты заходят с Mac, Iphone, Android, PC. Доля платящих пользователей на устройствах примерно одинаковая от 5 до 6,4%."
   ]
  },
  {
   "cell_type": "code",
   "execution_count": null,
   "id": "c6d7e5f7",
   "metadata": {},
   "outputs": [],
   "source": [
    "profiles_channel = profiles_dims('channel')\n",
    "profiles_channel"
   ]
  },
  {
   "cell_type": "code",
   "execution_count": null,
   "id": "588b067e",
   "metadata": {},
   "outputs": [],
   "source": [
    "#Количество источников\n",
    "print(len(profiles_channel.index))"
   ]
  },
  {
   "cell_type": "markdown",
   "id": "02d5567e",
   "metadata": {},
   "source": [
    "Пользователи перешли в приложение через 11 источников привлечения. В топ 3 вошли FaceBoom, AdNonSense, lambdaMediaAds, где доля покупателей больше 10%. Наименьшая доля покупателей, пришедших орагнически, доля 2%. "
   ]
  },
  {
   "cell_type": "markdown",
   "id": "edd52188",
   "metadata": {},
   "source": [
    "## Маркетинг"
   ]
  },
  {
   "cell_type": "code",
   "execution_count": null,
   "id": "0ac181a6",
   "metadata": {},
   "outputs": [],
   "source": [
    "print('Общая сумма расходов на маркетинг:',round(costs['costs'].sum(),2))"
   ]
  },
  {
   "cell_type": "code",
   "execution_count": null,
   "id": "0fff6b95",
   "metadata": {},
   "outputs": [],
   "source": [
    "costs_channel=(\n",
    "    costs.groupby('channel')\n",
    "    .agg({'costs':'sum'})\n",
    "    .sort_values(by='costs',ascending=False)\n",
    ")\n",
    "costs_channel['%, ratio'] = (costs_channel['costs']/(costs_channel['costs'].sum()))*100\n",
    "costs_channel"
   ]
  },
  {
   "cell_type": "markdown",
   "id": "33694e2e",
   "metadata": {},
   "source": [
    "Больше всего средств от общих затрат потрачено на каналы привлечения: TipTop (51,9%), FaceBoom(30.75%). Меньше всего средство до 1% выделено на каналы: MediaTornado, YRabbit."
   ]
  },
  {
   "cell_type": "code",
   "execution_count": null,
   "id": "3143e0fc",
   "metadata": {},
   "outputs": [],
   "source": [
    "costs['week'] = pd.to_datetime(costs['dt']).dt.isocalendar().week\n",
    "costs['month'] = pd.to_datetime(costs['dt']).dt.month\n",
    "def costs_group(index, dims=[]):\n",
    "    df=costs.pivot_table(index='week', columns = dims, values='costs', aggfunc='sum')\n",
    "    return df\n",
    "\n",
    "costs_week = costs_group('week')\n",
    "costs_month = costs_group('month')\n",
    "costs_week_channel = costs_group('week',dims=['channel'])\n",
    "costs_month_channel = costs_group('month',dims=['channel'])\n",
    "\n",
    "plt.figure(figsize=(15,10))\n",
    "ax1=plt.subplot(2,2,1)\n",
    "costs_week.plot(grid=True, ax=ax1)\n",
    "plt.ylabel('Расходы')\n",
    "plt.xlabel('Неделя')\n",
    "plt.title('Расходы по неделям')\n",
    "\n",
    "ax2=plt.subplot(2,2,2)\n",
    "costs_month.plot(grid=True, ax=ax2)\n",
    "plt.xlabel('Месяц')\n",
    "plt.ylabel('Расходы')\n",
    "plt.title('Расходы по месяцам')\n",
    "\n",
    "ax3=plt.subplot(2,2,3)\n",
    "costs_week_channel.plot(grid=True, ax=ax3)\n",
    "plt.ylabel('Расходы')\n",
    "plt.xlabel('Неделя')\n",
    "plt.title('Расходы по неделям')\n",
    "\n",
    "ax4=plt.subplot(2,2,4)\n",
    "costs_month_channel.plot(grid=True, ax=ax4)\n",
    "plt.xlabel('Месяц')\n",
    "plt.ylabel('Расходы')\n",
    "plt.title('Расходы по месяцам')\n",
    "\n",
    "plt.show()"
   ]
  },
  {
   "cell_type": "markdown",
   "id": "6a8d9753",
   "metadata": {},
   "source": [
    "Из первых двух графиков видно, что расходы на привлечение клиетов постоянно росло. Максимальные расходы в месяц достигали 22000, максимальные расходы в неделю чуть меньще 7000. Причины роста заметны на графиках с разбивкой по каналам: постоянное увеличение затрат на привлечение клиентов с помощью каналов TipTop и FaceBoom."
   ]
  },
  {
   "cell_type": "code",
   "execution_count": null,
   "id": "bb65461a",
   "metadata": {},
   "outputs": [],
   "source": [
    "display(\n",
    "    profiles.groupby('channel')\n",
    "    .agg({'acquisition_cost':'mean'})\n",
    "    .rename(columns={'acquisition_cost':'avg_costs'})\n",
    "    .sort_values(by='avg_costs',ascending=False)\n",
    ")"
   ]
  },
  {
   "cell_type": "markdown",
   "id": "56c16920",
   "metadata": {},
   "source": [
    "В среднем наибольшая стоимость привлечения пользователя у каналов привлечения: TipTop - 2.8, FaceBoom - 1.11, AdNonSense - 1.01. У остальных каналов привлечения средняя стоимость привлечения клиента находится в диапозоне от 0.21 до 0.72."
   ]
  },
  {
   "cell_type": "markdown",
   "id": "65bb94df",
   "metadata": {},
   "source": [
    "## Окупаемость рекламы"
   ]
  },
  {
   "cell_type": "code",
   "execution_count": null,
   "id": "d64bc4f4",
   "metadata": {},
   "outputs": [],
   "source": [
    "observation_date = datetime(2019,11,1).date()\n",
    "horizon_days=14"
   ]
  },
  {
   "cell_type": "markdown",
   "id": "74734fca",
   "metadata": {},
   "source": [
    "### All users. Графики LTV и ROI. Графики динамики LTV, CAC и ROI. "
   ]
  },
  {
   "cell_type": "code",
   "execution_count": null,
   "id": "2556d3a9",
   "metadata": {},
   "outputs": [],
   "source": [
    "ltv_raw, ltv, roi, ltv_history, roi_history = get_ltv(\n",
    "    profiles, orders, observation_date,horizon_days,dimensions=[]\n",
    ")\n",
    "\n",
    "plot_ltv_roi(ltv,ltv_history, roi, roi_history, 14 )\n"
   ]
  },
  {
   "cell_type": "markdown",
   "id": "2c7dbbc7",
   "metadata": {},
   "source": [
    "В первую очередь, следует отметить, что при анализе данных были исключены данные о пользователях, привлеченных органически. Опираясь, на графики можно сделать выводы, что LTV поступательно стремится к 1, но окупаемость даже на 14 день не пересекает уровень окупаемости. Судя по динамики LTV пользователей на 14-й день прибыль варировалась от 0.7 до 1.1 с одного пользователя. Динамика стоимости привлечения менее стабильна: на пользователей, привлеченных в мае, стоимость привлечения одного клиента была около 0.7, к ноября данный показатель практически достиг 1.4. Опирая на данные графика ROI, в течение 2-х недельного лайфтайма, клиенты не окупилсь. Лишь пользователи, привлеченные в мае, и небольшая часть клиентов июня окупились, затем с ростом затрат, линия окупаемости опускалась ниже уровня окупаемости."
   ]
  },
  {
   "cell_type": "markdown",
   "id": "111d14df",
   "metadata": {},
   "source": [
    "### Графики конверсии и удержания"
   ]
  },
  {
   "cell_type": "code",
   "execution_count": null,
   "id": "57551300",
   "metadata": {},
   "outputs": [],
   "source": [
    "conversion_raw, conversion, conversion_history = get_conversion(\n",
    "    profiles, orders, observation_date,horizon_days,dimensions=[]\n",
    ")\n",
    "\n",
    "\n",
    "plot_conversion (conversion, conversion_history, 14)\n",
    "\n",
    "retention_raw, retention, retention_history = get_retention(\n",
    "    profiles, users, observation_date,horizon_days,dimensions=[]\n",
    ")\n",
    "plot_retention(retention, retention_history, 14)\n"
   ]
  },
  {
   "cell_type": "markdown",
   "id": "6ea82f0a",
   "metadata": {},
   "source": [
    "Исключив \"органических\" пользователей, мы наблюдаем медленный рост конверсии; к 14-ому дню чуть больше 8% пользователей становятся покупателями. При этом наименьшие показатели у \"майских\" пользователей, а, начиная с \"июньских\", конверсия сильно колеблится около 8%.\n",
    "\n",
    "Пользователи плохо удерживаются, к концу второй недели остается меньше 15% платящих пользователей и чуть больше 0% - неплатящих. При этом, судя по динамике удержание у платящих показатели колеблится от 7,5% до 17,5%, у неплатящих - чуть больше 0."
   ]
  },
  {
   "cell_type": "markdown",
   "id": "e1a480a3",
   "metadata": {},
   "source": [
    "### Окупаемость пользователей с разбивкой по устройствам."
   ]
  },
  {
   "cell_type": "code",
   "execution_count": null,
   "id": "3afabc37",
   "metadata": {},
   "outputs": [],
   "source": [
    "ltv_raw, ltv, roi, ltv_history, roi_history = get_ltv(\n",
    "    profiles, orders, observation_date,horizon_days,dimensions=['device']\n",
    ")\n",
    "\n",
    "plot_ltv_roi(ltv,ltv_history, roi, roi_history, 14, 14)"
   ]
  },
  {
   "cell_type": "markdown",
   "id": "109cb3ce",
   "metadata": {},
   "source": [
    "Сгруппировав пользователей по устройству, видем, что LTV по всем устройствам стабильно растет и к 12 дню лайфтайма превышает 0.8. Из особенности можно отметить небольшое отставание в прибыли у пользователей PC, но это не мешает окупаться им на 11-й день. Пользователи остальных устройств не окупаются к концу второй недели. Если обратиться к графику динамики LTV, то пользовател каждой когорты ведут себя более менее одинаково. Но на графике динамики ROI отчетливо видно, что кривая пользователей PC практически до конца августа не опускаются ниже уровня окупаемости, за исключением неокупившихся пользователей привлеченных во второй половине июля. Часть пользователей Android, привлеченных в мае окупаются, но из-за роста затрат на привлечение глоабально пользователи не окупаются к 14-ому дню лайфтайма. Пользователи системы Ios схожи: рост прибыли и затрат растут одинаково, пользователи не окупаются, небольшая группа пользователей привлеченных в мае окупается, но в остальном ситуация не утешительная.\n",
    "\n",
    "Очевидно, что пользователи PC окупились, потому что уровень затрат не превысил 1.0."
   ]
  },
  {
   "cell_type": "code",
   "execution_count": null,
   "id": "9864fbf7",
   "metadata": {},
   "outputs": [],
   "source": [
    "conversion_raw, conversion, conversion_history = get_conversion(\n",
    "    profiles, orders, observation_date,horizon_days,dimensions=['device']\n",
    ")\n",
    "plot_conversion (conversion, conversion_history, 14, 21)\n",
    "\n",
    "retention_raw, retention, retention_history = get_retention(\n",
    "    profiles, users, observation_date,horizon_days,dimensions=['device']\n",
    ")\n",
    "plot_retention(retention, retention_history, 14, 21)"
   ]
  },
  {
   "cell_type": "markdown",
   "id": "f3a5a84a",
   "metadata": {},
   "source": [
    "Построив графики конверсии и удержания, следует отметить сильное отставание в конверсии у пользователей, использующих PC."
   ]
  },
  {
   "cell_type": "markdown",
   "id": "ffd252fc",
   "metadata": {},
   "source": [
    "### Окупаемость пользователей с разбивкой по странам."
   ]
  },
  {
   "cell_type": "code",
   "execution_count": null,
   "id": "cd3fde78",
   "metadata": {},
   "outputs": [],
   "source": [
    "ltv_raw, ltv, roi, ltv_history, roi_history = get_ltv(\n",
    "    profiles, orders, observation_date,horizon_days,dimensions=['region']\n",
    ")\n",
    "\n",
    "plot_ltv_roi(ltv,ltv_history, roi, roi_history, 14, 14)"
   ]
  },
  {
   "cell_type": "markdown",
   "id": "d837387c",
   "metadata": {},
   "source": [
    "После построения графиков, заметна схожее поведение у пользователей из трех стран: Германия, Франция и Великобритания. Прибыль в среднем на 14-й день достигает 0.6-0.8, на протяжении всех дат привлечения прибыль с пользователя варируется от 0.4 до 1.0. Расходы в мая находятся на уровне 0.6, начиная с середины июня опускаются до 0.4, поэтому пользователи окупаются между 4 и 6 днями лайфтайма. \n",
    "\n",
    "Совершенно другие показатели у пользователей из Соендиненных Штатов. Пользователи на протяжении всего лайфтайма обгоняют пользователей из других стран на 0.2, а к 14 дню преодолевает отметку 1.0. Начиная с \"июньской\" когорты прибыль на 14 день находится около 1.0. Однако пользователи из Америки не окупаются на протяжении всего лайфтайма, лишь небольшая группа пользователей привлеченных в мае и июне на 14-й день окупается. Причина снова кроется в завышенных затратах. С мая по июнь затраты не превышали 1.1, но к концу периода затраты практически достигли 1.8 на одного клиента.\n",
    "\n",
    "Рекомендации те же: не превышать затраты на привлечение пользователей из USA 1.0 на пользователя."
   ]
  },
  {
   "cell_type": "code",
   "execution_count": null,
   "id": "b8b0ff1c",
   "metadata": {},
   "outputs": [],
   "source": [
    "conversion_raw, conversion, conversion_history = get_conversion(\n",
    "    profiles, orders, observation_date,horizon_days,dimensions=['region']\n",
    ")\n",
    "plot_conversion (conversion, conversion_history, 14, 21)\n",
    "\n",
    "retention_raw, retention, retention_history = get_retention(\n",
    "    profiles, users, observation_date,horizon_days,dimensions=['region']\n",
    ")\n",
    "plot_retention(retention, retention_history, 14, 21)"
   ]
  },
  {
   "cell_type": "markdown",
   "id": "7661cf85",
   "metadata": {},
   "source": [
    "Конверсия у пользователей из USA наибольшая, но удержание платящих из этого региона находится на самом низком уровне относительно остальных регионов. О чем это говорит, мне сложно сказать.\n",
    "\n",
    "Также следует отметить,что динамика удержания платящих пользователей на 14-й день выглядит \"рвано\"."
   ]
  },
  {
   "cell_type": "markdown",
   "id": "72119b90",
   "metadata": {},
   "source": [
    "### Окупаемость пользователей с разбивкой по рекламным каналам."
   ]
  },
  {
   "cell_type": "code",
   "execution_count": null,
   "id": "7dde9c01",
   "metadata": {},
   "outputs": [],
   "source": [
    "ltv_raw, ltv, roi, ltv_history, roi_history = get_ltv(\n",
    "    profiles, orders, observation_date,horizon_days,dimensions=['channel']\n",
    ")\n",
    "\n",
    "plot_ltv_roi(ltv,ltv_history, roi, roi_history, 14, 21)"
   ]
  },
  {
   "cell_type": "markdown",
   "id": "ae9a3aef",
   "metadata": {},
   "source": [
    "Исходя из графиков, можно сделать вывод, что затраты на канал привлечения (далее - канал) TipTop кратно завышены, поэтому он не окупается. Для начала необходимо снизить затраты до 1.0 и посмотреть на окупаемость, так как прибыль на 14_й день по данному каналу находится около 1.5 с пользователя, скорее всего мы выйдем в плюс. Канал находится на втором месте по приносимой прибыли.\n",
    "\n",
    "Помимо TipTop есть еще два неокупаемых канала: FaceBoom и AdNonSense. Они находятся ближе к уровню окупаемости, но все равно не пересекают его. Средняя прибыль с человека, привлеченных с этих каналов не превышает 1.0. И если от канала AdNonSense можно отказаться из-за небольшого числа привлеченных пользователей (3702 чел.), то от FaceBoom отказываться нельзя - количество привлеченных пользователей 27,5 тысяч. На динамике LTV  видно, что прибыль на 14 день чуть больше 0.5, значит затраты не должны превышать данного числа. Для определения истинных причин неокупаемости, ниже построим графики удержания и конверсияя с разбивкой по каналам.\n",
    "\n",
    "Остальные каналы окупаются со 2 по 5 день лайфтайм, соотвественнно по ним можно увеличивать затраты на привлечение клиентов. Особое внимание заслуживает канал lambdaMediaAds , который является лидером по показателю LTV, и канал YRabbit, окупаемость которого на 14 день достигает 600% процентов. Очевидно, в первую очередь нужно вкладываться в рекламу на данных каналах."
   ]
  },
  {
   "cell_type": "code",
   "execution_count": null,
   "id": "7b910542",
   "metadata": {},
   "outputs": [],
   "source": [
    "conversion_raw, conversion, conversion_history = get_conversion(\n",
    "    profiles, orders, observation_date,horizon_days,dimensions=['channel']\n",
    ")\n",
    "plot_conversion (conversion, conversion_history, 14, 21)\n",
    "\n",
    "retention_raw, retention, retention_history = get_retention(\n",
    "    profiles, users, observation_date,horizon_days,dimensions=['channel']\n",
    ")\n",
    "plot_retention(retention, retention_history, 14, 21)"
   ]
  },
  {
   "cell_type": "markdown",
   "id": "89b4738b",
   "metadata": {},
   "source": [
    "Конверсия и динамика конверсия у всех источников разная, но на обоих графиках виден лидер - FaceBoom. Практически 12% пользователей становятся покупателями, при этом удержание к 14-ому дню практически достигает нуля, вне зависимости от даты привлечения клиента. Следует запросить данные об событиях или обращениях клиентов, возможно мы столкнулись с какой-то технической проблемой.\n",
    "\n",
    "Схожая ситуация у канала привлечения AdNonSense, с единственным отличием: до 14 дня лайфтайма добралась лишь часть \"майских\" клиентов. \n",
    "\n",
    "Наилучшие показатели удержания клиентов на 14-ый день у канала привлечения TipTop, при этом по уровню конверсии этот канал находится на 4 месте.\n",
    "\n",
    "Стоит отметить, что динамика конверсии у платящих клиентов на 14-й день по остальным каналам не отображена на графике, из чего можно сделать, что они не \"доживают\" до этого дня. Что наталкивает нас на мысли об эффективности использования данных каналов."
   ]
  },
  {
   "cell_type": "markdown",
   "id": "3d40b8c3",
   "metadata": {},
   "source": [
    "## Выводы"
   ]
  },
  {
   "cell_type": "markdown",
   "id": "996d52dc",
   "metadata": {},
   "source": [
    "Целью данного проекта было определить причину неэффективности привлечения пользователей развлекательного приложения Procrastinate Pro+ и предложить рекомендации для отдела маркетинга. В ходе работы были изучены и обработаны данные из полученных от компании данных о посещениях, покупках пользователей и затрат на них. \n",
    "\n",
    "После исследовательского анализа данных выявлено, что в период с 01 мая 2019г. по 27 октября 2019г. наибольшая конверсия в покупатель из Соединенных Штатов Америки, пользователей использующих Mac, а также пользователей, перешедших с канала привлечения FaceBoom. \n",
    "\n",
    "На этапе «Маркетинг» была выявлена тенденция в увеличении трат на рекламу, итог затрат на рекламу составил более 105 тыс. При этом наибольшие вложения в привлечение пользователей были направлены на канал TipTop (общие затраты – 54 751), где средние затраты на одного пользователя составили около 2.8 у.е.\n",
    "\n",
    "При оценке окупаемости было выявлено, что пользователи не окупаются и причиной являются завышенные затраты на привлечение клиентов. У приложения Procrastinate Pro+ хорошая конверсия, но удержание платящих клиентов к 14 дню стремится к 10%. При разбивке пользователей по устройствам, из-за больших затрат на привлечение пользователей Mac и iPhone, пользователи данных устройств не окупаются. Схожие причине не окупаемости у пользователей из USA – завышенные затраты на привлечение. После разбивки по каналам привлечения, мы выявили 3 канала с завышенными затратами на рекламу (TipTop, FaceBoom и AdNonSense), а также выявлены наиболее эффективные каналы: lambdaMediaAds и YRabbit.\n",
    "\n",
    "Причинами неэффективности привлечения пользователей является завышенные траты на привлечение клиентов по ряду каналов и игнорирование наиболее прибыльных каналов.\n",
    "Рекомендации:\n",
    "1.\tСнизить затраты на каналы TipTop, FaceBoom и AdNonSense ниже усредненного прибыли по данным каналам.\n",
    "2.\tНаправить финансовые средства для усиления привлечения пользователей по остальным каналам, особенно по каналу lambdaMediaAds, который является лидером по показателю LTV, и канал YRabbit, окупаемость которого на 14 день достигает 600% процентов.\n",
    "3.\tКонтролировать затраты на пользователей Mac и iPhone, а также покупателей из USA на уровне средних затрат на клиента 0.5 у.е.\n"
   ]
  }
 ],
 "metadata": {
  "ExecuteTimeLog": [
   {
    "duration": 1274,
    "start_time": "2022-10-06T07:37:17.856Z"
   },
   {
    "duration": 857,
    "start_time": "2022-10-06T07:37:19.132Z"
   },
   {
    "duration": 324,
    "start_time": "2022-10-06T07:37:19.991Z"
   },
   {
    "duration": 185,
    "start_time": "2022-10-06T07:37:20.317Z"
   },
   {
    "duration": 162,
    "start_time": "2022-10-06T07:37:20.509Z"
   },
   {
    "duration": 13,
    "start_time": "2022-10-06T07:37:20.673Z"
   },
   {
    "duration": 5,
    "start_time": "2022-10-06T07:37:20.688Z"
   },
   {
    "duration": 15,
    "start_time": "2022-10-06T07:37:20.695Z"
   },
   {
    "duration": 10,
    "start_time": "2022-10-06T07:37:20.712Z"
   },
   {
    "duration": 8,
    "start_time": "2022-10-06T07:37:20.724Z"
   },
   {
    "duration": 6,
    "start_time": "2022-10-06T07:37:20.734Z"
   },
   {
    "duration": 9,
    "start_time": "2022-10-06T07:37:20.742Z"
   },
   {
    "duration": 11,
    "start_time": "2022-10-06T07:37:20.753Z"
   },
   {
    "duration": 11,
    "start_time": "2022-10-06T07:37:20.765Z"
   },
   {
    "duration": 495,
    "start_time": "2022-10-06T07:37:20.777Z"
   },
   {
    "duration": 24,
    "start_time": "2022-10-06T07:37:21.273Z"
   },
   {
    "duration": 20,
    "start_time": "2022-10-06T07:37:21.309Z"
   },
   {
    "duration": 21,
    "start_time": "2022-10-06T07:37:21.331Z"
   },
   {
    "duration": 3,
    "start_time": "2022-10-06T07:37:21.354Z"
   },
   {
    "duration": 6,
    "start_time": "2022-10-06T07:37:21.358Z"
   },
   {
    "duration": 12,
    "start_time": "2022-10-06T07:37:21.365Z"
   },
   {
    "duration": 325,
    "start_time": "2022-10-06T07:37:21.378Z"
   },
   {
    "duration": 20,
    "start_time": "2022-10-06T07:37:21.705Z"
   },
   {
    "duration": 3,
    "start_time": "2022-10-06T07:37:21.727Z"
   },
   {
    "duration": 1574,
    "start_time": "2022-10-06T07:37:21.731Z"
   },
   {
    "duration": 1863,
    "start_time": "2022-10-06T07:37:23.306Z"
   },
   {
    "duration": 1714,
    "start_time": "2022-10-06T07:37:25.170Z"
   },
   {
    "duration": 1754,
    "start_time": "2022-10-06T07:37:26.887Z"
   },
   {
    "duration": 2175,
    "start_time": "2022-10-06T07:37:28.643Z"
   },
   {
    "duration": 42,
    "start_time": "2022-10-06T09:10:46.923Z"
   },
   {
    "duration": 68,
    "start_time": "2022-10-06T09:11:36.391Z"
   },
   {
    "duration": 46,
    "start_time": "2022-10-06T09:11:42.969Z"
   },
   {
    "duration": 47,
    "start_time": "2022-10-06T09:12:00.107Z"
   },
   {
    "duration": 1268,
    "start_time": "2022-10-06T09:12:11.357Z"
   },
   {
    "duration": 865,
    "start_time": "2022-10-06T09:12:15.519Z"
   },
   {
    "duration": 88,
    "start_time": "2022-10-06T09:12:28.450Z"
   },
   {
    "duration": 166,
    "start_time": "2022-10-06T09:17:12.467Z"
   },
   {
    "duration": 56,
    "start_time": "2022-10-06T09:17:56.031Z"
   },
   {
    "duration": 584,
    "start_time": "2022-10-06T09:22:13.433Z"
   },
   {
    "duration": 3,
    "start_time": "2022-10-06T09:22:30.986Z"
   },
   {
    "duration": 575,
    "start_time": "2022-10-06T09:22:34.612Z"
   },
   {
    "duration": 553,
    "start_time": "2022-10-06T09:23:15.724Z"
   },
   {
    "duration": 543,
    "start_time": "2022-10-06T09:24:00.271Z"
   },
   {
    "duration": 618,
    "start_time": "2022-10-06T09:24:54.472Z"
   },
   {
    "duration": 551,
    "start_time": "2022-10-06T09:25:43.469Z"
   },
   {
    "duration": 573,
    "start_time": "2022-10-06T09:26:10.374Z"
   },
   {
    "duration": 1340,
    "start_time": "2022-10-06T14:10:56.497Z"
   },
   {
    "duration": 1062,
    "start_time": "2022-10-06T14:10:57.839Z"
   },
   {
    "duration": 350,
    "start_time": "2022-10-06T14:10:58.902Z"
   },
   {
    "duration": 175,
    "start_time": "2022-10-06T14:10:59.254Z"
   },
   {
    "duration": 173,
    "start_time": "2022-10-06T14:11:04.351Z"
   },
   {
    "duration": 13,
    "start_time": "2022-10-06T14:11:07.539Z"
   },
   {
    "duration": 1077,
    "start_time": "2022-10-06T14:14:54.470Z"
   },
   {
    "duration": 644,
    "start_time": "2022-10-06T14:14:55.550Z"
   },
   {
    "duration": 338,
    "start_time": "2022-10-06T14:14:56.196Z"
   },
   {
    "duration": 181,
    "start_time": "2022-10-06T14:14:56.536Z"
   },
   {
    "duration": 189,
    "start_time": "2022-10-06T14:14:56.718Z"
   },
   {
    "duration": 23,
    "start_time": "2022-10-06T14:14:56.908Z"
   },
   {
    "duration": 8,
    "start_time": "2022-10-06T14:14:56.933Z"
   },
   {
    "duration": 13,
    "start_time": "2022-10-06T14:14:56.943Z"
   },
   {
    "duration": 21,
    "start_time": "2022-10-06T14:14:56.958Z"
   },
   {
    "duration": 20,
    "start_time": "2022-10-06T14:14:56.981Z"
   },
   {
    "duration": 26,
    "start_time": "2022-10-06T14:14:57.002Z"
   },
   {
    "duration": 11,
    "start_time": "2022-10-06T14:14:57.029Z"
   },
   {
    "duration": 9,
    "start_time": "2022-10-06T14:14:57.042Z"
   },
   {
    "duration": 11,
    "start_time": "2022-10-06T14:14:57.053Z"
   },
   {
    "duration": 487,
    "start_time": "2022-10-06T14:14:57.065Z"
   },
   {
    "duration": 24,
    "start_time": "2022-10-06T14:14:57.553Z"
   },
   {
    "duration": 44,
    "start_time": "2022-10-06T14:14:57.578Z"
   },
   {
    "duration": 22,
    "start_time": "2022-10-06T14:14:57.623Z"
   },
   {
    "duration": 4,
    "start_time": "2022-10-06T14:14:57.647Z"
   },
   {
    "duration": 10,
    "start_time": "2022-10-06T14:14:57.653Z"
   },
   {
    "duration": 23,
    "start_time": "2022-10-06T14:14:57.665Z"
   },
   {
    "duration": 307,
    "start_time": "2022-10-06T14:14:57.690Z"
   },
   {
    "duration": 27,
    "start_time": "2022-10-06T14:14:57.998Z"
   },
   {
    "duration": 13,
    "start_time": "2022-10-06T14:14:58.026Z"
   },
   {
    "duration": 1449,
    "start_time": "2022-10-06T14:14:58.040Z"
   },
   {
    "duration": 1893,
    "start_time": "2022-10-06T14:14:59.490Z"
   },
   {
    "duration": 1815,
    "start_time": "2022-10-06T14:15:01.385Z"
   },
   {
    "duration": 1817,
    "start_time": "2022-10-06T14:15:03.203Z"
   },
   {
    "duration": 2241,
    "start_time": "2022-10-06T14:15:05.021Z"
   },
   {
    "duration": 109,
    "start_time": "2022-10-06T14:36:05.427Z"
   },
   {
    "duration": 99,
    "start_time": "2022-10-06T14:37:20.497Z"
   },
   {
    "duration": 75,
    "start_time": "2022-10-06T14:37:55.846Z"
   },
   {
    "duration": 80,
    "start_time": "2022-10-06T14:38:22.255Z"
   },
   {
    "duration": 61,
    "start_time": "2022-10-06T14:38:55.822Z"
   },
   {
    "duration": 114,
    "start_time": "2022-10-06T14:39:50.181Z"
   },
   {
    "duration": 88,
    "start_time": "2022-10-06T14:40:02.892Z"
   },
   {
    "duration": 62,
    "start_time": "2022-10-06T14:40:14.012Z"
   },
   {
    "duration": 61,
    "start_time": "2022-10-06T14:40:19.639Z"
   },
   {
    "duration": 64,
    "start_time": "2022-10-06T14:41:53.221Z"
   },
   {
    "duration": 73,
    "start_time": "2022-10-06T14:42:13.622Z"
   },
   {
    "duration": 74,
    "start_time": "2022-10-06T14:42:33.197Z"
   },
   {
    "duration": 69,
    "start_time": "2022-10-06T14:42:45.385Z"
   },
   {
    "duration": 70,
    "start_time": "2022-10-06T14:43:11.783Z"
   },
   {
    "duration": 76,
    "start_time": "2022-10-06T14:46:18.147Z"
   },
   {
    "duration": 66,
    "start_time": "2022-10-06T14:46:53.955Z"
   },
   {
    "duration": 76,
    "start_time": "2022-10-06T14:50:33.874Z"
   },
   {
    "duration": 82,
    "start_time": "2022-10-06T14:51:02.930Z"
   },
   {
    "duration": 67,
    "start_time": "2022-10-06T14:51:15.156Z"
   },
   {
    "duration": 13,
    "start_time": "2022-10-06T14:55:02.190Z"
   },
   {
    "duration": 10,
    "start_time": "2022-10-06T15:33:19.325Z"
   },
   {
    "duration": 13,
    "start_time": "2022-10-06T15:36:47.222Z"
   },
   {
    "duration": 13,
    "start_time": "2022-10-06T15:37:00.985Z"
   },
   {
    "duration": 18,
    "start_time": "2022-10-06T15:37:06.205Z"
   },
   {
    "duration": 14,
    "start_time": "2022-10-06T15:37:22.275Z"
   },
   {
    "duration": 17,
    "start_time": "2022-10-06T15:37:58.406Z"
   },
   {
    "duration": 22,
    "start_time": "2022-10-06T15:38:14.405Z"
   },
   {
    "duration": 396,
    "start_time": "2022-10-06T16:33:01.580Z"
   },
   {
    "duration": 293,
    "start_time": "2022-10-06T16:33:25.177Z"
   },
   {
    "duration": 302,
    "start_time": "2022-10-06T16:33:37.601Z"
   },
   {
    "duration": 278,
    "start_time": "2022-10-06T16:33:44.897Z"
   },
   {
    "duration": 287,
    "start_time": "2022-10-06T16:34:16.137Z"
   },
   {
    "duration": 739,
    "start_time": "2022-10-06T16:35:54.785Z"
   },
   {
    "duration": 1479,
    "start_time": "2022-10-06T18:34:23.483Z"
   },
   {
    "duration": 994,
    "start_time": "2022-10-06T18:34:24.965Z"
   },
   {
    "duration": 392,
    "start_time": "2022-10-06T18:34:25.961Z"
   },
   {
    "duration": 189,
    "start_time": "2022-10-06T18:34:26.356Z"
   },
   {
    "duration": 173,
    "start_time": "2022-10-06T18:34:26.547Z"
   },
   {
    "duration": 15,
    "start_time": "2022-10-06T18:34:26.722Z"
   },
   {
    "duration": 9,
    "start_time": "2022-10-06T18:34:26.739Z"
   },
   {
    "duration": 12,
    "start_time": "2022-10-06T18:34:26.749Z"
   },
   {
    "duration": 13,
    "start_time": "2022-10-06T18:34:26.763Z"
   },
   {
    "duration": 42,
    "start_time": "2022-10-06T18:34:26.780Z"
   },
   {
    "duration": 11,
    "start_time": "2022-10-06T18:34:26.825Z"
   },
   {
    "duration": 14,
    "start_time": "2022-10-06T18:34:26.838Z"
   },
   {
    "duration": 11,
    "start_time": "2022-10-06T18:34:26.855Z"
   },
   {
    "duration": 17,
    "start_time": "2022-10-06T18:34:26.868Z"
   },
   {
    "duration": 537,
    "start_time": "2022-10-06T18:34:26.887Z"
   },
   {
    "duration": 127,
    "start_time": "2022-10-06T18:34:27.426Z"
   },
   {
    "duration": 69,
    "start_time": "2022-10-06T18:34:27.554Z"
   },
   {
    "duration": 63,
    "start_time": "2022-10-06T18:34:27.625Z"
   },
   {
    "duration": 3,
    "start_time": "2022-10-06T18:34:27.690Z"
   },
   {
    "duration": 33,
    "start_time": "2022-10-06T18:34:27.695Z"
   },
   {
    "duration": 23,
    "start_time": "2022-10-06T18:34:27.729Z"
   },
   {
    "duration": 889,
    "start_time": "2022-10-06T18:34:27.754Z"
   },
   {
    "duration": 32,
    "start_time": "2022-10-06T18:34:28.645Z"
   },
   {
    "duration": 4,
    "start_time": "2022-10-06T18:34:28.679Z"
   },
   {
    "duration": 1725,
    "start_time": "2022-10-06T18:34:28.685Z"
   },
   {
    "duration": 2131,
    "start_time": "2022-10-06T18:34:30.412Z"
   },
   {
    "duration": 1855,
    "start_time": "2022-10-06T18:34:32.545Z"
   },
   {
    "duration": 1917,
    "start_time": "2022-10-06T18:34:34.405Z"
   },
   {
    "duration": 2399,
    "start_time": "2022-10-06T18:34:36.324Z"
   },
   {
    "duration": 3628,
    "start_time": "2022-10-06T19:12:49.268Z"
   },
   {
    "duration": 3438,
    "start_time": "2022-10-06T19:13:08.086Z"
   },
   {
    "duration": 3262,
    "start_time": "2022-10-06T19:15:11.037Z"
   },
   {
    "duration": 1198,
    "start_time": "2022-10-06T19:30:36.291Z"
   },
   {
    "duration": 663,
    "start_time": "2022-10-06T19:30:37.491Z"
   },
   {
    "duration": 366,
    "start_time": "2022-10-06T19:30:38.156Z"
   },
   {
    "duration": 170,
    "start_time": "2022-10-06T19:30:38.525Z"
   },
   {
    "duration": 205,
    "start_time": "2022-10-06T19:30:38.696Z"
   },
   {
    "duration": 22,
    "start_time": "2022-10-06T19:30:38.903Z"
   },
   {
    "duration": 20,
    "start_time": "2022-10-06T19:30:38.927Z"
   },
   {
    "duration": 35,
    "start_time": "2022-10-06T19:30:38.949Z"
   },
   {
    "duration": 30,
    "start_time": "2022-10-06T19:30:38.986Z"
   },
   {
    "duration": 29,
    "start_time": "2022-10-06T19:30:39.020Z"
   },
   {
    "duration": 16,
    "start_time": "2022-10-06T19:30:39.052Z"
   },
   {
    "duration": 19,
    "start_time": "2022-10-06T19:30:39.070Z"
   },
   {
    "duration": 19,
    "start_time": "2022-10-06T19:30:39.093Z"
   },
   {
    "duration": 17,
    "start_time": "2022-10-06T19:30:39.115Z"
   },
   {
    "duration": 575,
    "start_time": "2022-10-06T19:30:39.134Z"
   },
   {
    "duration": 148,
    "start_time": "2022-10-06T19:30:39.711Z"
   },
   {
    "duration": 77,
    "start_time": "2022-10-06T19:30:39.861Z"
   },
   {
    "duration": 62,
    "start_time": "2022-10-06T19:30:39.940Z"
   },
   {
    "duration": 4,
    "start_time": "2022-10-06T19:30:40.020Z"
   },
   {
    "duration": 29,
    "start_time": "2022-10-06T19:30:40.026Z"
   },
   {
    "duration": 34,
    "start_time": "2022-10-06T19:30:40.058Z"
   },
   {
    "duration": 917,
    "start_time": "2022-10-06T19:30:40.094Z"
   },
   {
    "duration": 22,
    "start_time": "2022-10-06T19:30:41.013Z"
   },
   {
    "duration": 3,
    "start_time": "2022-10-06T19:30:41.037Z"
   },
   {
    "duration": 1521,
    "start_time": "2022-10-06T19:30:41.041Z"
   },
   {
    "duration": 1977,
    "start_time": "2022-10-06T19:30:42.564Z"
   },
   {
    "duration": 1793,
    "start_time": "2022-10-06T19:30:44.543Z"
   },
   {
    "duration": 2026,
    "start_time": "2022-10-06T19:30:46.339Z"
   },
   {
    "duration": 2388,
    "start_time": "2022-10-06T19:30:48.367Z"
   },
   {
    "duration": 2904,
    "start_time": "2022-10-06T19:30:50.758Z"
   },
   {
    "duration": 2310,
    "start_time": "2022-10-06T19:54:34.707Z"
   },
   {
    "duration": 2152,
    "start_time": "2022-10-06T19:55:53.169Z"
   },
   {
    "duration": 1232,
    "start_time": "2022-10-06T20:00:58.671Z"
   },
   {
    "duration": 683,
    "start_time": "2022-10-06T20:00:59.905Z"
   },
   {
    "duration": 364,
    "start_time": "2022-10-06T20:01:00.590Z"
   },
   {
    "duration": 179,
    "start_time": "2022-10-06T20:01:00.958Z"
   },
   {
    "duration": 184,
    "start_time": "2022-10-06T20:01:01.139Z"
   },
   {
    "duration": 14,
    "start_time": "2022-10-06T20:01:01.325Z"
   },
   {
    "duration": 53,
    "start_time": "2022-10-06T20:01:01.341Z"
   },
   {
    "duration": 57,
    "start_time": "2022-10-06T20:01:01.396Z"
   },
   {
    "duration": 49,
    "start_time": "2022-10-06T20:01:01.454Z"
   },
   {
    "duration": 36,
    "start_time": "2022-10-06T20:01:01.505Z"
   },
   {
    "duration": 45,
    "start_time": "2022-10-06T20:01:01.543Z"
   },
   {
    "duration": 37,
    "start_time": "2022-10-06T20:01:01.590Z"
   },
   {
    "duration": 43,
    "start_time": "2022-10-06T20:01:01.628Z"
   },
   {
    "duration": 58,
    "start_time": "2022-10-06T20:01:01.672Z"
   },
   {
    "duration": 612,
    "start_time": "2022-10-06T20:01:01.732Z"
   },
   {
    "duration": 119,
    "start_time": "2022-10-06T20:01:02.346Z"
   },
   {
    "duration": 75,
    "start_time": "2022-10-06T20:01:02.466Z"
   },
   {
    "duration": 62,
    "start_time": "2022-10-06T20:01:02.543Z"
   },
   {
    "duration": 14,
    "start_time": "2022-10-06T20:01:02.607Z"
   },
   {
    "duration": 21,
    "start_time": "2022-10-06T20:01:02.623Z"
   },
   {
    "duration": 26,
    "start_time": "2022-10-06T20:01:02.646Z"
   },
   {
    "duration": 841,
    "start_time": "2022-10-06T20:01:02.674Z"
   },
   {
    "duration": 26,
    "start_time": "2022-10-06T20:01:03.517Z"
   },
   {
    "duration": 10,
    "start_time": "2022-10-06T20:01:03.545Z"
   },
   {
    "duration": 1457,
    "start_time": "2022-10-06T20:01:03.557Z"
   },
   {
    "duration": 2001,
    "start_time": "2022-10-06T20:01:05.016Z"
   },
   {
    "duration": 2299,
    "start_time": "2022-10-06T20:01:15.416Z"
   },
   {
    "duration": 3119,
    "start_time": "2022-10-06T20:01:17.717Z"
   },
   {
    "duration": 1311,
    "start_time": "2022-10-07T05:33:43.238Z"
   },
   {
    "duration": 906,
    "start_time": "2022-10-07T05:33:44.551Z"
   },
   {
    "duration": 342,
    "start_time": "2022-10-07T05:33:45.459Z"
   },
   {
    "duration": 176,
    "start_time": "2022-10-07T05:33:45.804Z"
   },
   {
    "duration": 159,
    "start_time": "2022-10-07T05:33:45.982Z"
   },
   {
    "duration": 14,
    "start_time": "2022-10-07T05:33:46.143Z"
   },
   {
    "duration": 6,
    "start_time": "2022-10-07T05:33:46.158Z"
   },
   {
    "duration": 13,
    "start_time": "2022-10-07T05:33:46.166Z"
   },
   {
    "duration": 61,
    "start_time": "2022-10-07T05:33:46.181Z"
   },
   {
    "duration": 15,
    "start_time": "2022-10-07T05:33:46.246Z"
   },
   {
    "duration": 9,
    "start_time": "2022-10-07T05:33:46.264Z"
   },
   {
    "duration": 12,
    "start_time": "2022-10-07T05:33:46.276Z"
   },
   {
    "duration": 13,
    "start_time": "2022-10-07T05:33:46.289Z"
   },
   {
    "duration": 16,
    "start_time": "2022-10-07T05:33:46.304Z"
   },
   {
    "duration": 509,
    "start_time": "2022-10-07T05:33:46.322Z"
   },
   {
    "duration": 112,
    "start_time": "2022-10-07T05:33:46.833Z"
   },
   {
    "duration": 52,
    "start_time": "2022-10-07T05:33:46.947Z"
   },
   {
    "duration": 72,
    "start_time": "2022-10-07T05:33:47.001Z"
   },
   {
    "duration": 3,
    "start_time": "2022-10-07T05:33:47.075Z"
   },
   {
    "duration": 16,
    "start_time": "2022-10-07T05:33:47.079Z"
   },
   {
    "duration": 24,
    "start_time": "2022-10-07T05:33:47.096Z"
   },
   {
    "duration": 736,
    "start_time": "2022-10-07T05:33:47.121Z"
   },
   {
    "duration": 19,
    "start_time": "2022-10-07T05:33:47.858Z"
   },
   {
    "duration": 12,
    "start_time": "2022-10-07T05:33:47.878Z"
   },
   {
    "duration": 1360,
    "start_time": "2022-10-07T05:33:47.892Z"
   },
   {
    "duration": 1708,
    "start_time": "2022-10-07T05:33:49.254Z"
   },
   {
    "duration": 1543,
    "start_time": "2022-10-07T05:33:50.964Z"
   },
   {
    "duration": 2047,
    "start_time": "2022-10-07T05:33:52.511Z"
   },
   {
    "duration": 1652,
    "start_time": "2022-10-07T05:33:54.560Z"
   },
   {
    "duration": 2155,
    "start_time": "2022-10-07T05:33:56.215Z"
   },
   {
    "duration": 2094,
    "start_time": "2022-10-07T05:33:58.372Z"
   },
   {
    "duration": 2581,
    "start_time": "2022-10-07T05:34:00.467Z"
   }
  ],
  "kernelspec": {
   "display_name": "Python 3 (ipykernel)",
   "language": "python",
   "name": "python3"
  },
  "language_info": {
   "codemirror_mode": {
    "name": "ipython",
    "version": 3
   },
   "file_extension": ".py",
   "mimetype": "text/x-python",
   "name": "python",
   "nbconvert_exporter": "python",
   "pygments_lexer": "ipython3",
   "version": "3.9.13"
  },
  "toc": {
   "base_numbering": 1,
   "nav_menu": {},
   "number_sections": true,
   "sideBar": true,
   "skip_h1_title": true,
   "title_cell": "Table of Contents",
   "title_sidebar": "Contents",
   "toc_cell": false,
   "toc_position": {},
   "toc_section_display": true,
   "toc_window_display": false
  }
 },
 "nbformat": 4,
 "nbformat_minor": 5
}
